{
 "cells": [
  {
   "cell_type": "markdown",
   "metadata": {},
   "source": [
    "# 准备数据：从文本中构建词向量"
   ]
  },
  {
   "cell_type": "markdown",
   "metadata": {},
   "source": [
    "## 创建一些实验样本"
   ]
  },
  {
   "cell_type": "markdown",
   "metadata": {},
   "source": [
    "1. postingList: 进行词条切割后的文档集合，这相当于是六个文档  \n",
    "2. classVec：类别标签的集合"
   ]
  },
  {
   "cell_type": "code",
   "execution_count": 1,
   "metadata": {},
   "outputs": [],
   "source": [
    "from numpy import *\n",
    "\n",
    "def loadDataSet():\n",
    "    postingList=[['my', 'dog', 'has', 'flea', 'problems', 'help', 'please'],\n",
    "                 ['maybe', 'not', 'take', 'him', 'to', 'dog', 'park', 'stupid'],\n",
    "                 ['my', 'dalmation', 'is', 'so', 'cute', 'I', 'love, 'him'],\n",
    "                 ['stop', 'posting', 'stupid', 'worthless', 'garbage'],\n",
    "                 ['mr', 'licks', 'ate', 'my', 'steak', 'how', 'to', 'stop', 'him'],\n",
    "                 ['quit', 'buying', 'worthless', 'dog', 'food', 'stupid']]\n",
    "    classVec = [0,1,0,1,0,1]    #1 is abusive, 0 not\n",
    "    return postingList,classVec"
   ]
  },
  {
   "cell_type": "markdown",
   "metadata": {},
   "source": [
    "## 创建一个包含所有文档中出现的单词列表(一个不重复的列表)"
   ]
  },
  {
   "cell_type": "code",
   "execution_count": 2,
   "metadata": {},
   "outputs": [],
   "source": [
    "def createVocabList(dataSet):\n",
    "    vocabSet = set([])  #create empty set\n",
    "    for document in dataSet:\n",
    "        vocabSet = vocabSet | set(document) #union of the two sets\n",
    "    return list(vocabSet)"
   ]
  },
  {
   "cell_type": "markdown",
   "metadata": {},
   "source": [
    "## 输出词汇表中的单词在文档中是否出现过"
   ]
  },
  {
   "cell_type": "code",
   "execution_count": 4,
   "metadata": {},
   "outputs": [],
   "source": [
    "def setOfWords2Vec(vocabList, inputSet):\n",
    "    returnVec = [0]*len(vocabList)  # 把myVocabList变成一个向量\n",
    "    for word in inputSet:\n",
    "        if word in vocabList:\n",
    "            returnVec[vocabList.index(word)] = 1  # 只要文档（inputSet）中出现的单词都标记一下\n",
    "        else: print (\"the word: %s is not in my Vocabulary!\" % word)\n",
    "    return returnVec"
   ]
  },
  {
   "cell_type": "markdown",
   "metadata": {},
   "source": [
    "## 测试"
   ]
  },
  {
   "cell_type": "code",
   "execution_count": 13,
   "metadata": {},
   "outputs": [
    {
     "data": {
      "text/plain": [
       "[1,\n",
       " 0,\n",
       " 0,\n",
       " 0,\n",
       " 0,\n",
       " 0,\n",
       " 0,\n",
       " 0,\n",
       " 0,\n",
       " 0,\n",
       " 0,\n",
       " 0,\n",
       " 1,\n",
       " 1,\n",
       " 0,\n",
       " 0,\n",
       " 0,\n",
       " 0,\n",
       " 0,\n",
       " 1,\n",
       " 0,\n",
       " 0,\n",
       " 0,\n",
       " 0,\n",
       " 1,\n",
       " 1,\n",
       " 0,\n",
       " 0,\n",
       " 0,\n",
       " 0,\n",
       " 0,\n",
       " 1]"
      ]
     },
     "execution_count": 13,
     "metadata": {},
     "output_type": "execute_result"
    }
   ],
   "source": [
    "listOPosts, listClasses = loadDataSet()  # 创建训练样本\n",
    "myVocabList = createVocabList(listOPosts)  # 把loadDataSet中postingList中的所有单词放在一起创建了一个不重复的词汇表\n",
    "setOfWords2Vec(myVocabList, listOPosts[0])  # listOPostsP[0]是postingList的第一行；"
   ]
  },
  {
   "cell_type": "code",
   "execution_count": 65,
   "metadata": {},
   "outputs": [
    {
     "data": {
      "text/plain": [
       "['my',\n",
       " 'so',\n",
       " 'worthless',\n",
       " 'food',\n",
       " 'ate',\n",
       " 'him',\n",
       " 'to',\n",
       " 'garbage',\n",
       " 'how',\n",
       " 'buying',\n",
       " 'cute',\n",
       " 'mr',\n",
       " 'dog',\n",
       " 'please',\n",
       " 'maybe',\n",
       " 'steak',\n",
       " 'licks',\n",
       " 'is',\n",
       " 'not',\n",
       " 'flea',\n",
       " 'stupid',\n",
       " 'park',\n",
       " 'posting',\n",
       " 'love',\n",
       " 'help',\n",
       " 'problems',\n",
       " 'dalmation',\n",
       " 'stop',\n",
       " 'I',\n",
       " 'quit',\n",
       " 'take',\n",
       " 'has']"
      ]
     },
     "execution_count": 65,
     "metadata": {},
     "output_type": "execute_result"
    }
   ],
   "source": [
    "myVocabList"
   ]
  },
  {
   "cell_type": "markdown",
   "metadata": {},
   "source": [
    "# 训练算法：根据词向量计算概率"
   ]
  },
  {
   "cell_type": "markdown",
   "metadata": {},
   "source": [
    "## 朴素贝叶斯分类器训练函数"
   ]
  },
  {
   "cell_type": "markdown",
   "metadata": {},
   "source": [
    "1. trainMatrix：文档矩阵  \n",
    "2. trainCategory：每篇文档类别标签所构成的向量 [0, 1, 0, 1, 0, 1]"
   ]
  },
  {
   "cell_type": "code",
   "execution_count": 59,
   "metadata": {},
   "outputs": [],
   "source": [
    "def trainNB0(trainMatrix, trainCategory):\n",
    "    numTrainDocs = len(trainMatrix)  # 几个文档，6\n",
    "    numWords = len(trainMatrix[0])  # 几个单词\n",
    "    pAbusive = sum(trainCategory) / float(numTrainDocs)  # 3 / 6  含有侮辱性词语的文档/总文档数目\n",
    "    p0Num = zeros(numWords)\n",
    "    p1Num = zeros(numWords)\n",
    "    p0Denom = 0.0\n",
    "    p1Denom = 0.0  \n",
    "    for i in range(numTrainDocs):  \n",
    "        if trainCategory[i] == 1:  # 当前文档是不是含有侮辱性词汇 \n",
    "            p1Num += trainMatrix[i]  # 把所有标记为侮辱性文档的词都记录在一起\n",
    "            p1Denom += sum(trainMatrix[i]) # 标记为侮辱性文档的总词数\n",
    "        else:\n",
    "            p0Num += trainMatrix[i]  # 把所有标记为侮辱性文档的词都记录在一起\n",
    "            p0Denom += sum(trainMatrix[i])  # 标记为正常文档的总词数\n",
    "    p1Vect = p1Num / p1Denom \n",
    "    p0Vect = p0Num / p0Denom\n",
    "    return p0Vect, p1Vect, pAbusive"
   ]
  },
  {
   "cell_type": "markdown",
   "metadata": {},
   "source": [
    "## 测试"
   ]
  },
  {
   "cell_type": "markdown",
   "metadata": {},
   "source": [
    "1. listOPosts：文档数据  \n",
    "2. postinDoc：listOPosts中的每一行  \n",
    "3. listClasses：类别数据  \n",
    "4. listClasses：词汇表  \n",
    "5. trainMat：由文档中单词是否出现的词汇表构成，因为文档有六行（即6篇文档），所以trainMat也有六行"
   ]
  },
  {
   "cell_type": "code",
   "execution_count": 60,
   "metadata": {},
   "outputs": [
    {
     "data": {
      "text/plain": [
       "6"
      ]
     },
     "execution_count": 60,
     "metadata": {},
     "output_type": "execute_result"
    }
   ],
   "source": [
    "listOPosts, listClasses = loadDataSet()  # 创建训练样本\n",
    "myVocabList = createVocabList(listOPosts)  # 把loadDataSet中postingList中的所有单词放在一起创建了一个不重复的词汇表\n",
    "trainMat = []  # 文档矩阵\n",
    "for postinDoc in listOPosts:  # 一行一行的看单词是否在词汇表中出现过\n",
    "    trainMat.append(setOfWords2Vec(myVocabList, postinDoc))  # 把每一行的单词出现情况加入到trainMat列表中，形成一个矩阵\n",
    "len(trainMat)"
   ]
  },
  {
   "cell_type": "code",
   "execution_count": 61,
   "metadata": {},
   "outputs": [],
   "source": [
    "p0V, p1V, pAb = trainNB0(trainMat, listClasses)"
   ]
  },
  {
   "cell_type": "code",
   "execution_count": 62,
   "metadata": {},
   "outputs": [
    {
     "data": {
      "text/plain": [
       "array([0.125     , 0.04166667, 0.        , 0.        , 0.04166667,\n",
       "       0.08333333, 0.04166667, 0.        , 0.04166667, 0.        ,\n",
       "       0.04166667, 0.04166667, 0.04166667, 0.04166667, 0.        ,\n",
       "       0.04166667, 0.04166667, 0.04166667, 0.        , 0.04166667,\n",
       "       0.        , 0.        , 0.        , 0.04166667, 0.04166667,\n",
       "       0.04166667, 0.04166667, 0.04166667, 0.04166667, 0.        ,\n",
       "       0.        , 0.04166667])"
      ]
     },
     "execution_count": 62,
     "metadata": {},
     "output_type": "execute_result"
    }
   ],
   "source": [
    "p0V"
   ]
  },
  {
   "cell_type": "code",
   "execution_count": 63,
   "metadata": {},
   "outputs": [
    {
     "data": {
      "text/plain": [
       "array([0.        , 0.        , 0.10526316, 0.05263158, 0.        ,\n",
       "       0.05263158, 0.05263158, 0.05263158, 0.        , 0.05263158,\n",
       "       0.        , 0.        , 0.10526316, 0.        , 0.05263158,\n",
       "       0.        , 0.        , 0.        , 0.05263158, 0.        ,\n",
       "       0.15789474, 0.05263158, 0.05263158, 0.        , 0.        ,\n",
       "       0.        , 0.        , 0.05263158, 0.        , 0.05263158,\n",
       "       0.05263158, 0.        ])"
      ]
     },
     "execution_count": 63,
     "metadata": {},
     "output_type": "execute_result"
    }
   ],
   "source": [
    "p1V"
   ]
  },
  {
   "cell_type": "code",
   "execution_count": 64,
   "metadata": {},
   "outputs": [
    {
     "data": {
      "text/plain": [
       "0.5"
      ]
     },
     "execution_count": 64,
     "metadata": {},
     "output_type": "execute_result"
    }
   ],
   "source": [
    "pAb"
   ]
  },
  {
   "cell_type": "code",
   "execution_count": 68,
   "metadata": {},
   "outputs": [
    {
     "data": {
      "text/plain": [
       "20"
      ]
     },
     "execution_count": 68,
     "metadata": {},
     "output_type": "execute_result"
    }
   ],
   "source": [
    "argmax(p1V)  # 侮辱性文档中出现次数最多的单词下标"
   ]
  },
  {
   "cell_type": "code",
   "execution_count": 70,
   "metadata": {},
   "outputs": [
    {
     "data": {
      "text/plain": [
       "'stupid'"
      ]
     },
     "execution_count": 70,
     "metadata": {},
     "output_type": "execute_result"
    }
   ],
   "source": [
    "myVocabList[argmax(p1V)]  # 侮辱性文档中出现次数最多的单词"
   ]
  },
  {
   "cell_type": "markdown",
   "metadata": {},
   "source": [
    "# 测试算法：根据现实情况修改分类器"
   ]
  },
  {
   "cell_type": "markdown",
   "metadata": {},
   "source": [
    "#### 修改  \n",
    "1. 避免在计算某个文档属于某个类别的概率的时候（要进行连乘操作）出现概率为0的情况  \n",
    "p0Num = ones(numWords)  \n",
    "p1Num = ones(numWords)    \n",
    "p0Denom = 2.0  \n",
    "p1Denom = 2.0    \n",
    "2. 避免下溢,对乘积取自然对数  \n",
    "p1Vect = log(p1Num / p1Denom) \n",
    "p0Vect = log(p0Num / p0Denom)  "
   ]
  },
  {
   "cell_type": "markdown",
   "metadata": {},
   "source": [
    "#### 注\n",
    "1. 西瓜书中使用的办法是拉普拉斯修正  \n",
    "分子统一加1  \n",
    "分母统一加第i个属性的可能取值数  "
   ]
  },
  {
   "cell_type": "code",
   "execution_count": 74,
   "metadata": {},
   "outputs": [],
   "source": [
    "def trainNB01(trainMatrix, trainCategory):\n",
    "    numTrainDocs = len(trainMatrix)  # 几个文档，6\n",
    "    numWords = len(trainMatrix[0])  # 几个单词\n",
    "    pAbusive = sum(trainCategory) / float(numTrainDocs)  # 3 / 6  含有侮辱性词语的文档/总文档数目\n",
    "    p0Num = ones(numWords)\n",
    "    p1Num = ones(numWords)  \n",
    "    p0Denom = 2.0\n",
    "    p1Denom = 2.0  \n",
    "    for i in range(numTrainDocs):  \n",
    "        if trainCategory[i] == 1:  # 当前文档是不是含有侮辱性词汇 \n",
    "            p1Num += trainMatrix[i]  # 把所有标记为侮辱性文档的词都记录在一起\n",
    "            p1Denom += sum(trainMatrix[i]) # 标记为侮辱性文档的总词数\n",
    "        else:\n",
    "            p0Num += trainMatrix[i]  # 把所有标记为侮辱性文档的词都记录在一起\n",
    "            p0Denom += sum(trainMatrix[i])  # 标记为正常文档的总词数\n",
    "    p1Vect = log(p1Num / p1Denom)  \n",
    "    p0Vect = log(p0Num / p0Denom)  \n",
    "    return p0Vect, p1Vect, pAbusive"
   ]
  },
  {
   "cell_type": "markdown",
   "metadata": {},
   "source": [
    "## 朴素贝叶斯分类函数"
   ]
  },
  {
   "cell_type": "markdown",
   "metadata": {},
   "source": [
    "1. vec2Classify：要分类的向量  \n",
    "2. p0Vec, p1Vec, pClass1：trainNB01计算得到的三个概率"
   ]
  },
  {
   "cell_type": "code",
   "execution_count": 75,
   "metadata": {},
   "outputs": [],
   "source": [
    "def classifyNB(vec2Classify, p0Vec, p1Vec, pClass1):\n",
    "    p1 = sum(vec2Classify * p1Vec) + log(pClass1)    #element-wise mult\n",
    "    p0 = sum(vec2Classify * p0Vec) + log(1.0 - pClass1)\n",
    "    if p1 > p0:\n",
    "        return 1\n",
    "    else: \n",
    "        return 0"
   ]
  },
  {
   "cell_type": "markdown",
   "metadata": {},
   "source": [
    "## 便利函数"
   ]
  },
  {
   "cell_type": "markdown",
   "metadata": {},
   "source": [
    "封装所有的操作"
   ]
  },
  {
   "cell_type": "code",
   "execution_count": 78,
   "metadata": {},
   "outputs": [],
   "source": [
    "def testingNB():\n",
    "    listOPosts,listClasses = loadDataSet()\n",
    "    myVocabList = createVocabList(listOPosts)\n",
    "    trainMat=[]\n",
    "    for postinDoc in listOPosts:\n",
    "        trainMat.append(setOfWords2Vec(myVocabList, postinDoc))\n",
    "    p0V,p1V,pAb = trainNB0(array(trainMat),array(listClasses))\n",
    "    testEntry = ['love', 'my', 'dalmation']\n",
    "    thisDoc = array(setOfWords2Vec(myVocabList, testEntry))\n",
    "    print(testEntry,'classified as: ',classifyNB(thisDoc,p0V,p1V,pAb))\n",
    "    testEntry = ['stupid', 'garbage']\n",
    "    thisDoc = array(setOfWords2Vec(myVocabList, testEntry))\n",
    "    print(testEntry,'classified as: ',classifyNB(thisDoc,p0V,p1V,pAb))"
   ]
  },
  {
   "cell_type": "code",
   "execution_count": 80,
   "metadata": {},
   "outputs": [
    {
     "name": "stdout",
     "output_type": "stream",
     "text": [
      "['love', 'my', 'dalmation'] classified as:  0\n",
      "['stupid', 'garbage'] classified as:  1\n"
     ]
    }
   ],
   "source": [
    "testingNB()"
   ]
  }
 ],
 "metadata": {
  "kernelspec": {
   "display_name": "Python 3",
   "language": "python",
   "name": "python3"
  },
  "language_info": {
   "codemirror_mode": {
    "name": "ipython",
    "version": 3
   },
   "file_extension": ".py",
   "mimetype": "text/x-python",
   "name": "python",
   "nbconvert_exporter": "python",
   "pygments_lexer": "ipython3",
   "version": "3.7.1"
  }
 },
 "nbformat": 4,
 "nbformat_minor": 2
}
